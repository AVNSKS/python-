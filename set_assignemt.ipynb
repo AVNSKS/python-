{
 "cells": [
  {
   "cell_type": "code",
   "execution_count": 4,
   "id": "926ba772-57f6-4680-a056-fb9b0f264cb1",
   "metadata": {},
   "outputs": [
    {
     "name": "stdin",
     "output_type": "stream",
     "text": [
      "enter the number to remove the numbers 4\n",
      "which element you want remove \n"
     ]
    },
    {
     "ename": "ValueError",
     "evalue": "invalid literal for int() with base 10: ''",
     "output_type": "error",
     "traceback": [
      "\u001b[0;31m---------------------------------------------------------------------------\u001b[0m",
      "\u001b[0;31mValueError\u001b[0m                                Traceback (most recent call last)",
      "Cell \u001b[0;32mIn[4], line 3\u001b[0m\n\u001b[1;32m      1\u001b[0m \u001b[38;5;66;03m#program to remove an item from a set if it is present in the set.\u001b[39;00m\n\u001b[1;32m      2\u001b[0m inp\u001b[38;5;241m=\u001b[39m\u001b[38;5;28minput\u001b[39m(\u001b[38;5;124m\"\u001b[39m\u001b[38;5;124menter the number to remove the numbers\u001b[39m\u001b[38;5;124m\"\u001b[39m)\u001b[38;5;241m.\u001b[39msplit(\u001b[38;5;124m\"\u001b[39m\u001b[38;5;124m \u001b[39m\u001b[38;5;124m\"\u001b[39m)\n\u001b[0;32m----> 3\u001b[0m re\u001b[38;5;241m=\u001b[39m\u001b[38;5;28;43mint\u001b[39;49m\u001b[43m(\u001b[49m\u001b[38;5;28;43minput\u001b[39;49m\u001b[43m(\u001b[49m\u001b[38;5;124;43m\"\u001b[39;49m\u001b[38;5;124;43mwhich element you want remove\u001b[39;49m\u001b[38;5;124;43m\"\u001b[39;49m\u001b[43m)\u001b[49m\u001b[43m)\u001b[49m\n\u001b[1;32m      4\u001b[0m inp\u001b[38;5;241m=\u001b[39m[\u001b[38;5;28mint\u001b[39m (i) \u001b[38;5;28;01mfor\u001b[39;00m i \u001b[38;5;129;01min\u001b[39;00m inp]\n\u001b[1;32m      5\u001b[0m inp\u001b[38;5;241m=\u001b[39m\u001b[38;5;28mset\u001b[39m(inp)\n",
      "\u001b[0;31mValueError\u001b[0m: invalid literal for int() with base 10: ''"
     ]
    }
   ],
   "source": [
    "#program to remove an item from a set if it is present in the set.\n",
    "inp=input(\"enter the number to remove the numbers\").split(\" \")\n",
    "re=int(input(\"which element you want remove\"))\n",
    "inp=[int (i) for i in inp]\n",
    "inp=set(inp)\n",
    "if re in inp:\n",
    "    inp.remove(re)\n",
    "else:\n",
    "    print(\"The element is not there in set\")\n",
    "print(inp)"
   ]
  },
  {
   "cell_type": "code",
   "execution_count": 11,
   "id": "a3397043-c667-4f21-92f1-0416a002c8d1",
   "metadata": {},
   "outputs": [
    {
     "name": "stdin",
     "output_type": "stream",
     "text": [
      "enter the number for the first set 1 2 3\n",
      "enter the number to second set 2 3\n"
     ]
    },
    {
     "name": "stdout",
     "output_type": "stream",
     "text": [
      "The common elements the sets are  {2, 3}\n"
     ]
    }
   ],
   "source": [
    "#program to check if two given sets have no elements in common\n",
    "inp=input(\"enter the number for the first set\").split(\" \")\n",
    "inp=[int (i) for i in inp]\n",
    "inp=set(inp)\n",
    "inp1=input(\"enter the number to second set\").split(\" \") \n",
    "inp1=[int (i) for i in inp1]\n",
    "inp1=set(inp1)\n",
    "print(\"The common elements the sets are \",(inp&inp1))"
   ]
  },
  {
   "cell_type": "code",
   "execution_count": 15,
   "id": "3d2b7de0-1eff-4b76-8669-11f55fbae2bc",
   "metadata": {},
   "outputs": [
    {
     "name": "stdin",
     "output_type": "stream",
     "text": [
      "enter the number for the first set 1 2 3\n",
      "enter the number to second set 2 3 4 5\n"
     ]
    },
    {
     "name": "stdout",
     "output_type": "stream",
     "text": [
      "The common elements the sets are  {1}\n",
      "The common elements the sets are  {4, 5}\n"
     ]
    }
   ],
   "source": [
    "#program toGet Only unique items from two sets\n",
    "inp=input(\"enter the number for the first set\").split(\" \")\n",
    "inp=[int (i) for i in inp]\n",
    "inp=set(inp)\n",
    "inp1=input(\"enter the number to second set\").split(\" \") \n",
    "inp1=[int (i) for i in inp1]\n",
    "inp1=set(inp1)\n",
    "print(\"The common elements the sets are \",(inp-inp1))\n",
    "print(\"The common elements the sets are \",(inp1-inp))"
   ]
  },
  {
   "cell_type": "code",
   "execution_count": 20,
   "id": "e5c8d91b-486d-4a58-b01f-3d9c4524c959",
   "metadata": {},
   "outputs": [
    {
     "name": "stdin",
     "output_type": "stream",
     "text": [
      "enter the number for the first set 2 3 4 5 f dknkfnf\n"
     ]
    },
    {
     "name": "stdout",
     "output_type": "stream",
     "text": [
      "54dknkfnf2f3\n"
     ]
    }
   ],
   "source": [
    "#program to Convert Set to one String\n",
    "inp=input(\"enter the number for the first set\").split(\" \")\n",
    "inp=set(inp)\n",
    "string=\"\"\n",
    "for i in inp:\n",
    "    string=string+i\n",
    "print(string)"
   ]
  },
  {
   "cell_type": "code",
   "execution_count": 22,
   "id": "30a434a6-34e7-4cba-857b-47fd50d35226",
   "metadata": {},
   "outputs": [
    {
     "name": "stdin",
     "output_type": "stream",
     "text": [
      "enter the number for the first set sivakrishna sai\n"
     ]
    },
    {
     "name": "stdout",
     "output_type": "stream",
     "text": [
      "the numberts os ovels in string is 6\n"
     ]
    }
   ],
   "source": [
    "#program to count number of vowels using sets in given string\n",
    "inp=input(\"enter the number for the first set\")\n",
    "s={\"a\",\"e\",\"i\",\"o\",\"u\",\"A\",\"E\",\"I\",\"O\",\"U\"}\n",
    "count=0\n",
    "for i in inp:\n",
    "    if i in s:\n",
    "        count+=1\n",
    "print(f\"the numberts os ovels in string is {count}\")"
   ]
  }
 ],
 "metadata": {
  "kernelspec": {
   "display_name": "Python 3 (ipykernel)",
   "language": "python",
   "name": "python3"
  },
  "language_info": {
   "codemirror_mode": {
    "name": "ipython",
    "version": 3
   },
   "file_extension": ".py",
   "mimetype": "text/x-python",
   "name": "python",
   "nbconvert_exporter": "python",
   "pygments_lexer": "ipython3",
   "version": "3.13.0"
  }
 },
 "nbformat": 4,
 "nbformat_minor": 5
}

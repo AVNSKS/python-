{
 "cells": [
  {
   "cell_type": "code",
   "execution_count": 17,
   "id": "deb1b8b0-4f6f-498b-848f-ce37c23ae487",
   "metadata": {},
   "outputs": [
    {
     "name": "stdin",
     "output_type": "stream",
     "text": [
      "Enter the numbers to remove the duplucates 5 5 34 5 3\n"
     ]
    },
    {
     "name": "stdout",
     "output_type": "stream",
     "text": [
      "{'34', '5', '3'}\n"
     ]
    }
   ],
   "source": [
    "#program to remove duplicates from a list.\n",
    "inpu=(input(\"Enter the numbers to remove the duplucates\")).split(\" \")\n",
    "inpu=set(inpu)\n",
    "print((inpu))\n"
   ]
  },
  {
   "cell_type": "code",
   "execution_count": 37,
   "id": "8c393356-0038-4d78-85da-81b07aa602e7",
   "metadata": {},
   "outputs": [
    {
     "name": "stdin",
     "output_type": "stream",
     "text": [
      "Enter the numbers or string  3 \n",
      "Enter the second numbers or string 6\n"
     ]
    },
    {
     "name": "stdout",
     "output_type": "stream",
     "text": [
      "False\n"
     ]
    }
   ],
   "source": [
    "#function that takes two lists and returns True if they have at least one common member.\n",
    "inpu1=(input(\"Enter the numbers or string \")).split(\" \")\n",
    "inpu2=(input(\"Enter the second numbers or string\")).split(\" \")\n",
    "for i in inpu1:\n",
    "    if i in inpu2:\n",
    "        print(True)\n",
    "        break\n",
    "else:\n",
    "    print(False)\n"
   ]
  },
  {
   "cell_type": "code",
   "execution_count": 60,
   "id": "80dcc2bb-6e6d-446b-8abd-974db4582749",
   "metadata": {},
   "outputs": [
    {
     "name": "stdin",
     "output_type": "stream",
     "text": [
      "Enter the numbers to remove the duplucates 3\n"
     ]
    },
    {
     "name": "stdout",
     "output_type": "stream",
     "text": [
      "[3]\n"
     ]
    }
   ],
   "source": [
    "#program to print the numbers of a specified list after removing even numbers from it.\n",
    "inpu=input(\"Enter the numbers to remove the duplucates\").split(\" \")\n",
    "inpu=[int(i) for i in inpu]\n",
    "inpu=[j for j in inpu if j%2!=0]\n",
    "print(inpu)"
   ]
  },
  {
   "cell_type": "code",
   "execution_count": 68,
   "id": "c7b7cdd4-9bbd-4188-8352-edbc85365a55",
   "metadata": {},
   "outputs": [
    {
     "name": "stdin",
     "output_type": "stream",
     "text": [
      "Enter the numbers to remove the duplucates 1 2 3 4\n"
     ]
    },
    {
     "name": "stdout",
     "output_type": "stream",
     "text": [
      "The second samelles value is 2 \n"
     ]
    }
   ],
   "source": [
    "#program to find the second smallest number in a list.\n",
    "inpu=input(\"Enter the number to temm second smallest value\").split(\" \")\n",
    "inpu=[int(i) for i in inpu]\n",
    "# f=min(inpu)\n",
    "inpu.remove(min(inpu))\n",
    "print(f\"The second smalles value is {min(inpu)} \")"
   ]
  },
  {
   "cell_type": "code",
   "execution_count": 70,
   "id": "c73f9bf7-1735-4be7-a763-cd56ad2aefba",
   "metadata": {},
   "outputs": [
    {
     "name": "stdout",
     "output_type": "stream",
     "text": [
      "Original List: [1, 2, 3, 4, 5, 6, 7, 8, 9]\n",
      "Split List: [[1, 2, 3], [4, 5, 6], [7, 8, 9]]\n"
     ]
    }
   ],
   "source": [
    "#program to split a list every Nth element.\n",
    "def split_list(input_list, n):\n",
    "    return [input_list[i:i+n] for i in range(0, len(input_list), n)]\n",
    "input_list = [1, 2, 3, 4, 5, 6, 7, 8, 9]\n",
    "n = 3\n",
    "print(\"Original List:\", input_list)\n",
    "print(\"Split List:\", split_list(input_list, n))"
   ]
  },
  {
   "cell_type": "code",
   "execution_count": 83,
   "id": "19caaa4d-f231-4594-8ae1-f6f6a317d5ad",
   "metadata": {},
   "outputs": [
    {
     "name": "stdout",
     "output_type": "stream",
     "text": [
      "union of the list ({1, 2, 3, 4}, {1, 2, 3, 4, 5, 6, 7, 8, 9}) is \n",
      "{1, 2, 3, 4, 5, 6, 7, 8, 9}\n",
      "intersection of the sets 'a-b' is {1, 2, 3, 4}\n"
     ]
    }
   ],
   "source": [
    "#function to find the union and intersection of two lists\n",
    "input_list = [1, 2, 3, 4, ]\n",
    "input_list2 = [1, 2, 3, 4, 5, 6, 7, 8, 9]\n",
    "input_list=set(input_list)\n",
    "input_list2=set(input_list2)\n",
    "print(f\"union of the list {input_list ,input_list2} is \\n{input_list.union(input_list2)}\")\n",
    "print(f\"intersection of the sets 'a-b' is {input_list.intersection(input_list2)}\")"
   ]
  },
  {
   "cell_type": "code",
   "execution_count": 87,
   "id": "6cfdd0e2-2baa-4349-8c62-931ff0fa5e3d",
   "metadata": {},
   "outputs": [
    {
     "name": "stdin",
     "output_type": "stream",
     "text": [
      "Enter the number to cgheck the list is palandrem 2 3 4\n"
     ]
    },
    {
     "name": "stdout",
     "output_type": "stream",
     "text": [
      "False\n"
     ]
    }
   ],
   "source": [
    "#function to check if a list is a palindrome or not\n",
    "inpu=input(\"Enter the number to cgheck the list is palandrem\").split(\" \")\n",
    "inpu=[int(i) for i in inpu]\n",
    "if inpu[::1]==inpu[::-1]:\n",
    "    print(True)\n",
    "else:\n",
    "    print(False)"
   ]
  }
 ],
 "metadata": {
  "kernelspec": {
   "display_name": "Python 3 (ipykernel)",
   "language": "python",
   "name": "python3"
  },
  "language_info": {
   "codemirror_mode": {
    "name": "ipython",
    "version": 3
   },
   "file_extension": ".py",
   "mimetype": "text/x-python",
   "name": "python",
   "nbconvert_exporter": "python",
   "pygments_lexer": "ipython3",
   "version": "3.13.0"
  }
 },
 "nbformat": 4,
 "nbformat_minor": 5
}

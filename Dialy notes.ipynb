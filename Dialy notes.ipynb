{
 "cells": [
  {
   "cell_type": "markdown",
   "id": "b5abe77a-add2-4893-a24d-d27e000de8ac",
   "metadata": {},
   "source": [
    "List (11/10/24)"
   ]
  },
  {
   "cell_type": "code",
   "execution_count": 15,
   "id": "f6d7dc64-f0f5-4a87-b2ce-52dfb32bc78c",
   "metadata": {},
   "outputs": [],
   "source": [
    "l1=[]\n",
    "l1=list([2,3,4,5,6])"
   ]
  },
  {
   "cell_type": "code",
   "execution_count": 20,
   "id": "17120b01-585f-4b7a-a73a-98ae2a0f5380",
   "metadata": {},
   "outputs": [
    {
     "name": "stdin",
     "output_type": "stream",
     "text": [
      "enter value 3\n",
      "enter value 3\n",
      "enter value 3\n",
      "enter value 3\n",
      "enter value 3\n"
     ]
    },
    {
     "name": "stdout",
     "output_type": "stream",
     "text": [
      "[3, 3, 3, 3, 3, 3]\n"
     ]
    }
   ],
   "source": [
    "#Task\n",
    "l1=list([1,1,1,1,1,s])\n",
    "for i in range(0,5):\n",
    "    s=int(input(\"enter value\"))\n",
    "    l1[i]=s\n",
    "print(l1)    \n",
    "    "
   ]
  },
  {
   "cell_type": "code",
   "execution_count": 37,
   "id": "96197baa-4ef9-485d-8689-d3fcd4fef48a",
   "metadata": {},
   "outputs": [
    {
     "data": {
      "text/plain": [
       "[1, 1, 1, 1, 1, 35, 's', 'v', [50, 40], (1, 2, 3, 4), 40, 50]"
      ]
     },
     "execution_count": 37,
     "metadata": {},
     "output_type": "execute_result"
    }
   ],
   "source": [
    "l1=list([1,1,1,1,1,'s','v'])\n",
    "l1.append([50,40])\n",
    "l1[7].count(50)\n",
    "t=(1,2,3,4)\n",
    "l1.extend([t])\n",
    "l1.extend([40,50])\n",
    "l1.insert(5,35)\n",
    "l1"
   ]
  },
  {
   "cell_type": "code",
   "execution_count": 42,
   "id": "6e4e63b7-5e6b-404c-b70c-45596c5a3faa",
   "metadata": {},
   "outputs": [
    {
     "name": "stdin",
     "output_type": "stream",
     "text": [
      "Enter the size of the list  3\n"
     ]
    },
    {
     "name": "stdout",
     "output_type": "stream",
     "text": [
      "\n",
      "\n"
     ]
    },
    {
     "name": "stdin",
     "output_type": "stream",
     "text": [
      "Enter the list items separated by space  3 3 4 3\n"
     ]
    },
    {
     "data": {
      "text/plain": [
       "[3, 3, 4]"
      ]
     },
     "execution_count": 42,
     "metadata": {},
     "output_type": "execute_result"
    }
   ],
   "source": [
    "odd_square=[x**2 for x in range(1,11) if x%2==1]\n",
    "odd_square\n",
    "n = int(input(\"Enter the size of the list \"))\n",
    "print(\"\\n\")\n",
    "num_list = list(int(num) for num in input(\"Enter the list items separated by space \").strip().split())[:n]\n",
    "num_list\n"
   ]
  },
  {
   "cell_type": "code",
   "execution_count": 1,
   "id": "8135d3a2-8c6d-4c5a-8382-3bc4f4a2f38f",
   "metadata": {},
   "outputs": [],
   "source": [
    "t=2,2,2,2,3\n"
   ]
  },
  {
   "cell_type": "markdown",
   "id": "f2360b54-2f98-4f8d-911d-655fad6a8692",
   "metadata": {},
   "source": [
    "(14/10/24)\n"
   ]
  },
  {
   "cell_type": "code",
   "execution_count": 6,
   "id": "26a8cdb3-4e0f-4501-adb9-b904490bbf41",
   "metadata": {},
   "outputs": [],
   "source": [
    "s1=set()\n",
    "type(s1)\n",
    "s1.add(5)"
   ]
  },
  {
   "cell_type": "code",
   "execution_count": 16,
   "id": "ff5c1303-752d-4fa8-b845-f5619ff34f19",
   "metadata": {},
   "outputs": [
    {
     "data": {
      "text/plain": [
       "{6, 7, 8, 9}"
      ]
     },
     "execution_count": 16,
     "metadata": {},
     "output_type": "execute_result"
    }
   ],
   "source": [
    "s1={1,2,3,4,5}\n",
    "s2={5,6,7,8,9}\n",
    "s1|s2\n",
    "s1&s2\n",
    "s1-s2\n",
    "s2-s1"
   ]
  },
  {
   "cell_type": "code",
   "execution_count": 17,
   "id": "05b5fde3-f3ff-4473-9c51-9e16fcb3156f",
   "metadata": {},
   "outputs": [
    {
     "data": {
      "text/plain": [
       "({1, 2, 3, 4, 5, 6, 7, 8, 9}, {5}, {1, 2, 3, 4}, {1, 2, 3, 4, 6, 7, 8, 9})"
      ]
     },
     "execution_count": 17,
     "metadata": {},
     "output_type": "execute_result"
    }
   ],
   "source": [
    "un=s1.union(s2)\n",
    "di=s1.intersection(s2)\n",
    "sub=s1.difference(s2)\n",
    "sym=s1.symmetric_difference(s2)\n",
    "\n",
    "un,di,sub,sym"
   ]
  },
  {
   "cell_type": "code",
   "execution_count": null,
   "id": "e10167d2-0abf-4e11-8791-b572ee44f251",
   "metadata": {},
   "outputs": [],
   "source": [
    "def add()"
   ]
  },
  {
   "cell_type": "code",
   "execution_count": null,
   "id": "f41372fc-d080-43c3-b641-215c82ec1fe6",
   "metadata": {},
   "outputs": [],
   "source": [
    "print(\"#################################################################\")\n",
    "print(\"# \\t\\t\\t\\tMENU \\t\\t\\t\\t#\")\n",
    "print(\"# \\t\\t 1.ADD \\t\\t\\t\\t\\t\\t#\")\n",
    "print(\"# \\t\\t 2.VIEW \\t\\t\\t\\t\\t#\")\n",
    "print(\"# \\t\\t 3.REMOVE\\t\\t\\t\\t\\t#\")\n",
    "print(\"#\\t\\t\\t\\t\\t\\t\\t\\t#\")\n",
    "print(\"#\\t\\t\\t\\t\\t\\t\\t\\t#\")\n",
    "print(\"#\\t\\t\\t\\t\\t\\t\\t\\t#\")\n",
    "print(\"#\\t\\t\\t\\t\\t\\t\\t\\t#\")\n",
    "print(\"#\\t\\t\\t\\t\\t\\t\\t\\t#\")\n",
    "print(\"#################################################################\")\n",
    "num=int(input(\"enter the number as in the menu\"))\n",
    "if num==1:\n",
    "    a=input(\"enter the name \")\n",
    "    add()\n",
    "elif num==2:\n",
    "    view()\n",
    "elif num==3:\n",
    "    r=input(\"enter the name to remove\")\n",
    "    remove()\n",
    "\n",
    "\n"
   ]
  },
  {
   "cell_type": "markdown",
   "id": "0d4c3cc9-c18b-43da-b5b6-b7d21c06f139",
   "metadata": {},
   "source": [
    "(15/10/24)\n",
    "Dictionary"
   ]
  },
  {
   "cell_type": "code",
   "execution_count": 5,
   "id": "5dd53c62-7f57-4872-a51d-78389e2894d2",
   "metadata": {},
   "outputs": [
    {
     "data": {
      "text/plain": [
       "'value'"
      ]
     },
     "execution_count": 5,
     "metadata": {},
     "output_type": "execute_result"
    }
   ],
   "source": [
    "d={}\n",
    "d={\"key\":\"value\"}\n",
    "d[\"key2\"]=\"valu2\"\n",
    "s=d[\"key\"]\n",
    "s"
   ]
  },
  {
   "cell_type": "markdown",
   "id": "5bf0190f-30af-488b-be37-f22d061aa8d3",
   "metadata": {},
   "source": [
    "oops\n",
    "(16/10/24)\n"
   ]
  },
  {
   "cell_type": "code",
   "execution_count": 4,
   "id": "7f146e18-5415-4cd6-8cdc-a5e852a73814",
   "metadata": {},
   "outputs": [
    {
     "name": "stdout",
     "output_type": "stream",
     "text": [
      "<__main__.student object at 0x1074a1940>\n",
      "the name is  siva\n",
      "roll num 234\n",
      "sum= 10\n",
      "averge is= 2\n"
     ]
    }
   ],
   "source": [
    "class student:\n",
    "    def __init__(self):\n",
    "        self.roll=234\n",
    "        self.name=\"siva\"\n",
    "        self.mark=[]\n",
    "    # def set_data(self ):\n",
    "    #     self.roll=int(input(\"enter the input\"))\n",
    "    #     self.name=input(\"name\")\n",
    "    def get_data(self):\n",
    "        print(\"the name is \",self.name)\n",
    "        print(\"roll num\",self.roll)\n",
    "    def marks(self,ma):\n",
    "        mark=list(ma)\n",
    "        o=0\n",
    "        for i in mark:\n",
    "            o=o+i\n",
    "        print(\"sum=\",(o))\n",
    "        print(\"averge is=\",o//len(ma))\n",
    "        \n",
    "s=student()  \n",
    "print(s)\n",
    "s2=student()\n",
    "# s.set_data()\n",
    "s.get_data()\n",
    "t=(1,2,3,4)\n",
    "s.marks(t)\n",
    "\n",
    "\n",
    "    "
   ]
  },
  {
   "cell_type": "markdown",
   "id": "92eed69a-aa54-4420-8979-1ec51fb39cc7",
   "metadata": {},
   "source": [
    "(17/10/24)"
   ]
  },
  {
   "cell_type": "code",
   "execution_count": 5,
   "id": "3cf0b181-1e2c-48cd-9f36-ea6e10990f6b",
   "metadata": {},
   "outputs": [
    {
     "name": "stdout",
     "output_type": "stream",
     "text": [
      "234\n"
     ]
    }
   ],
   "source": [
    "class student:\n",
    "    def __init__(siva):\n",
    "        siva.roll=234\n",
    "        siva.name=\"siva\"\n",
    "        siva.mark=[]\n",
    "    def pr(siva):\n",
    "        print(siva.roll)\n",
    "s=student()\n",
    "s.pr()"
   ]
  },
  {
   "cell_type": "code",
   "execution_count": 6,
   "id": "715d61e4-053c-4935-915c-cd1d2bd5aa02",
   "metadata": {},
   "outputs": [
    {
     "name": "stdout",
     "output_type": "stream",
     "text": [
      "num 88\n"
     ]
    }
   ],
   "source": [
    "class csstudent:\n",
    "    stream='IT'\n",
    "    def __init__(self,name,roll):\n",
    "        self.name=name\n",
    "        self.roll=roll\n",
    "        self.gmail=\"gmail\"\n",
    "    def display(self,num):\n",
    "        print('num',num)\n",
    "\n",
    "a=csstudent('ABC',1)\n",
    "b=csstudent('DEF',2)\n",
    "b.display(\"88\")\n",
    "# print('Student 1')\n",
    "# print(a.stream)\n",
    "# print(a.roll)\n",
    "# print(a.name)\n",
    "# print('Student 2')\n",
    "# print(b.stream)\n",
    "# print(b.roll)\n",
    "# print(b.name)"
   ]
  },
  {
   "cell_type": "code",
   "execution_count": 8,
   "id": "dbc4b1bc-8478-406e-87c7-9a310caadd70",
   "metadata": {},
   "outputs": [
    {
     "name": "stdin",
     "output_type": "stream",
     "text": [
      "Enter your roll no:  g\n"
     ]
    },
    {
     "ename": "ValueError",
     "evalue": "invalid literal for int() with base 10: 'g'",
     "output_type": "error",
     "traceback": [
      "\u001b[0;31m---------------------------------------------------------------------------\u001b[0m",
      "\u001b[0;31mValueError\u001b[0m                                Traceback (most recent call last)",
      "Cell \u001b[0;32mIn[8], line 13\u001b[0m\n\u001b[1;32m     11\u001b[0m         \u001b[38;5;28mprint\u001b[39m(\u001b[38;5;124m'\u001b[39m\u001b[38;5;124mName   :\u001b[39m\u001b[38;5;124m'\u001b[39m,\u001b[38;5;28mself\u001b[39m\u001b[38;5;241m.\u001b[39msname)\n\u001b[1;32m     12\u001b[0m s1\u001b[38;5;241m=\u001b[39mstudent()\n\u001b[0;32m---> 13\u001b[0m \u001b[43ms1\u001b[49m\u001b[38;5;241;43m.\u001b[39;49m\u001b[43msetdata\u001b[49m\u001b[43m(\u001b[49m\u001b[43m)\u001b[49m\n\u001b[1;32m     14\u001b[0m \u001b[38;5;28mprint\u001b[39m(\u001b[38;5;124m'\u001b[39m\u001b[38;5;124mThe name input:\u001b[39m\u001b[38;5;124m'\u001b[39m,\u001b[38;5;28mgetattr\u001b[39m(s1,\u001b[38;5;124m'\u001b[39m\u001b[38;5;124msname\u001b[39m\u001b[38;5;124m'\u001b[39m))\n\u001b[1;32m     15\u001b[0m \u001b[38;5;28msetattr\u001b[39m(s1,\u001b[38;5;124m'\u001b[39m\u001b[38;5;124msname\u001b[39m\u001b[38;5;124m'\u001b[39m,\u001b[38;5;124m'\u001b[39m\u001b[38;5;124mVijay\u001b[39m\u001b[38;5;124m'\u001b[39m)\n",
      "Cell \u001b[0;32mIn[8], line 7\u001b[0m, in \u001b[0;36mstudent.setdata\u001b[0;34m(self)\u001b[0m\n\u001b[1;32m      6\u001b[0m \u001b[38;5;28;01mdef\u001b[39;00m \u001b[38;5;21msetdata\u001b[39m(\u001b[38;5;28mself\u001b[39m):\n\u001b[0;32m----> 7\u001b[0m     \u001b[38;5;28mself\u001b[39m\u001b[38;5;241m.\u001b[39mroll\u001b[38;5;241m=\u001b[39m\u001b[38;5;28;43mint\u001b[39;49m\u001b[43m(\u001b[49m\u001b[38;5;28;43minput\u001b[39;49m\u001b[43m(\u001b[49m\u001b[38;5;124;43m\"\u001b[39;49m\u001b[38;5;124;43mEnter your roll no: \u001b[39;49m\u001b[38;5;124;43m\"\u001b[39;49m\u001b[43m)\u001b[49m\u001b[43m)\u001b[49m\n\u001b[1;32m      8\u001b[0m     \u001b[38;5;28mself\u001b[39m\u001b[38;5;241m.\u001b[39msname\u001b[38;5;241m=\u001b[39m\u001b[38;5;28minput\u001b[39m(\u001b[38;5;124m\"\u001b[39m\u001b[38;5;124mEnter the name: \u001b[39m\u001b[38;5;124m\"\u001b[39m)\n",
      "\u001b[0;31mValueError\u001b[0m: invalid literal for int() with base 10: 'g'"
     ]
    }
   ],
   "source": [
    "# Using the delattr in instance variable will delete the whole variable itself\n",
    "class student:\n",
    "    def __init__(self):\n",
    "        self.roll=0\n",
    "        self.sname=''\n",
    "    def setdata(self):\n",
    "        self.roll=int(input(\"Enter your roll no: \"))\n",
    "        self.sname=input(\"Enter the name: \")\n",
    "    def getdata(self):\n",
    "        print('Roll No:',self.roll)\n",
    "        print('Name   :',self.sname)\n",
    "s1=student()\n",
    "s1.setdata()\n",
    "print('The name input:',getattr(s1,'sname'))\n",
    "setattr(s1,'sname','Vijay')\n",
    "print('The name after reset:',getattr(s1,'sname'))\n",
    "delattr(s1,'sname')\n",
    "print('Is name there now?:',hasattr(s1,'sname'))\n",
    "# s1.getdata()\n"
   ]
  },
  {
   "cell_type": "code",
   "execution_count": 22,
   "id": "a1dbf98b-1217-474e-b5b6-7a08f800b895",
   "metadata": {},
   "outputs": [
    {
     "name": "stdin",
     "output_type": "stream",
     "text": [
      "Enter your roll no:  4\n",
      "Enter the name:  f\n"
     ]
    },
    {
     "name": "stdout",
     "output_type": "stream",
     "text": [
      "f\n",
      "Vijay\n",
      "True\n",
      "Roll No: 4\n",
      "Name   : \n"
     ]
    }
   ],
   "source": [
    "# Using delattr in class variable will delete only the input of variable\n",
    "class student:\n",
    "    roll=0\n",
    "    sname=''\n",
    "    def setdata(self):\n",
    "        self.roll=int(input(\"Enter your roll no: \"))\n",
    "        self.sname=input(\"Enter the name: \")\n",
    "    def getdata(self):\n",
    "        print('Roll No:',self.roll)\n",
    "        print('Name   :',self.sname)\n",
    "s1=student()\n",
    "s1.setdata()\n",
    "print(getattr(s1,'sname'))\n",
    "setattr(s1,'sname','Vijay')\n",
    "print(getattr(s1,'sname'))\n",
    "delattr(s1,'sname')\n",
    "print(hasattr(s1,'sname'))\n",
    "s1.getdata()"
   ]
  },
  {
   "cell_type": "code",
   "execution_count": 31,
   "id": "5a61e0ec-ded3-4ca4-9357-8a2fc1c80b14",
   "metadata": {},
   "outputs": [],
   "source": [
    "student.__dict__\n",
    "student.__module__\n",
    "student.__name__\n",
    "student.__doc__"
   ]
  },
  {
   "cell_type": "code",
   "execution_count": 33,
   "id": "33d7d869-a83b-4def-b0c6-380a20a45247",
   "metadata": {},
   "outputs": [
    {
     "name": "stdout",
     "output_type": "stream",
     "text": [
      "sive 1\n",
      "soham 2\n",
      "bhrath 3\n",
      "adrash 4\n",
      "rayan 5\n"
     ]
    }
   ],
   "source": [
    "# class student:\n",
    "#     def __init__(self):\n",
    "#         self.name=[\"sive\",\"soham\",\"bhrath\",\"adrash\",\"rayan\"]\n",
    "#         self.roll=[1,2,3,4,5]\n",
    "#     def display(self):\n",
    "#         for i in range(len(self.name)):\n",
    "#             print(self.name[i],self.roll[i])\n",
    "            \n",
    "# s=student()\n",
    "# s.display()"
   ]
  },
  {
   "cell_type": "code",
   "execution_count": 40,
   "id": "20f5d499-10a7-4fcc-8cab-12177ff4a713",
   "metadata": {},
   "outputs": [
    {
     "name": "stdout",
     "output_type": "stream",
     "text": [
      "['siva']\n",
      "[5]\n"
     ]
    }
   ],
   "source": [
    "class student:\n",
    "    def __init__(self,name,roll):\n",
    "        self.name=name\n",
    "        self.roll=roll\n",
    "        self.data=[self.name,self.roll]\n",
    "    def display(self):\n",
    "        for i in self.data:\n",
    "            print([i])\n",
    "            \n",
    "s=student(\"siva\",5)\n",
    "s.display()"
   ]
  },
  {
   "cell_type": "code",
   "execution_count": 3,
   "id": "8186b177-bc13-4bb4-855e-313fc237b333",
   "metadata": {},
   "outputs": [
    {
     "name": "stdout",
     "output_type": "stream",
     "text": [
      "siva 1\n",
      "krishna 2\n",
      "sai 3\n"
     ]
    }
   ],
   "source": [
    "class student:\n",
    "    def __init__(self,names,roll):\n",
    "        self.names=names\n",
    "        self.roll=roll\n",
    "    def display(self):\n",
    "        for i in range(max(len(self.names),len(self.roll))):\n",
    "            print(self.names[i],self.roll[i])\n",
    "s=student([\"siva\",\"krishna\",\"sai\"],[1,2,3])\n",
    "s.display()\n",
    "    "
   ]
  },
  {
   "cell_type": "markdown",
   "id": "69bec1b8-1f94-42c0-852d-8ef12eb3798d",
   "metadata": {},
   "source": [
    "(18/10/24)"
   ]
  },
  {
   "cell_type": "code",
   "execution_count": 6,
   "id": "b648c56a-e795-48f0-b360-cd68fa7464e5",
   "metadata": {},
   "outputs": [
    {
     "name": "stdout",
     "output_type": "stream",
     "text": [
      "Make emo \n",
      " model 5555\n"
     ]
    }
   ],
   "source": [
    "#single inherence\n",
    "class vehicle:\n",
    "    def __init__(self):\n",
    "        self.make=\" \"\n",
    "        self.model=\" \"\n",
    "    def display (self):\n",
    "        print(\"Make\",self.make,\"\\n model\",self.model)\n",
    "class jaguar(vehicle):\n",
    "    def __init__(self):\n",
    "        self.make=\"emo\"\n",
    "        self.model=\"5555\"\n",
    "c=jaguar()\n",
    "c.display()"
   ]
  },
  {
   "cell_type": "code",
   "execution_count": 21,
   "id": "51fea412-f78b-4cc8-aaca-5e3ed260d1da",
   "metadata": {},
   "outputs": [
    {
     "name": "stdout",
     "output_type": "stream",
     "text": [
      "105\n",
      "100\n"
     ]
    }
   ],
   "source": [
    "#super keyword\n",
    "class vehicle:\n",
    "    speed=50\n",
    "    def __init__(self,m,mo):\n",
    "        self.make=m\n",
    "        self.model=mo\n",
    "    def display (self):\n",
    "        print(\"Make\",self.make,\"\\n model\",self.model)\n",
    "class tata(vehicle):\n",
    "    speed=100\n",
    "    def __init__(self,a,b):\n",
    "        super().__init__(a,b)\n",
    "    def details(self):\n",
    "        print(self.speed)\n",
    "        print(super().speed)\n",
    "class rangerover(tata):\n",
    "    speed=105\n",
    "    def __init__(self,a,b):\n",
    "        super().__init__(a,b)\n",
    "    def details(self):\n",
    "        print(self.speed)\n",
    "        print(super().speed)\n",
    "c=rangerover(\"emo\",555)\n",
    "c.details()\n",
    "        \n",
    "    \n",
    "    "
   ]
  },
  {
   "cell_type": "code",
   "execution_count": 22,
   "id": "f3a60f48-6733-4a98-a00d-a2d5df19cbeb",
   "metadata": {},
   "outputs": [
    {
     "name": "stdin",
     "output_type": "stream",
     "text": [
      "Enter the roll no:  f\n",
      "Enter the name:  f\n",
      "Enter Subject1 Marks d\n"
     ]
    },
    {
     "ename": "ValueError",
     "evalue": "invalid literal for int() with base 10: 'd'",
     "output_type": "error",
     "traceback": [
      "\u001b[0;31m---------------------------------------------------------------------------\u001b[0m",
      "\u001b[0;31mValueError\u001b[0m                                Traceback (most recent call last)",
      "Cell \u001b[0;32mIn[22], line 31\u001b[0m\n\u001b[1;32m     29\u001b[0m \u001b[38;5;66;03m#object of second year calling\u001b[39;00m\n\u001b[1;32m     30\u001b[0m obj1\u001b[38;5;241m.\u001b[39msetPersonal()\n\u001b[0;32m---> 31\u001b[0m \u001b[43mobj1\u001b[49m\u001b[38;5;241;43m.\u001b[39;49m\u001b[43mgetMarks\u001b[49m\u001b[43m(\u001b[49m\u001b[43m)\u001b[49m\n\u001b[1;32m     32\u001b[0m obj1\u001b[38;5;241m.\u001b[39mgetPersonal()\n\u001b[1;32m     33\u001b[0m obj1\u001b[38;5;241m.\u001b[39mshowMarks()\n",
      "Cell \u001b[0;32mIn[22], line 20\u001b[0m, in \u001b[0;36msy.getMarks\u001b[0;34m(self)\u001b[0m\n\u001b[1;32m     19\u001b[0m \u001b[38;5;28;01mdef\u001b[39;00m \u001b[38;5;21mgetMarks\u001b[39m(\u001b[38;5;28mself\u001b[39m):\n\u001b[0;32m---> 20\u001b[0m     \u001b[38;5;28mself\u001b[39m\u001b[38;5;241m.\u001b[39ms1\u001b[38;5;241m=\u001b[39m\u001b[38;5;28;43mint\u001b[39;49m\u001b[43m(\u001b[49m\u001b[38;5;28;43minput\u001b[39;49m\u001b[43m(\u001b[49m\u001b[38;5;124;43m\"\u001b[39;49m\u001b[38;5;124;43mEnter Subject1 Marks\u001b[39;49m\u001b[38;5;124;43m\"\u001b[39;49m\u001b[43m)\u001b[49m\u001b[43m)\u001b[49m\n\u001b[1;32m     21\u001b[0m     \u001b[38;5;28mself\u001b[39m\u001b[38;5;241m.\u001b[39ms2\u001b[38;5;241m=\u001b[39m\u001b[38;5;28mint\u001b[39m(\u001b[38;5;28minput\u001b[39m(\u001b[38;5;124m\"\u001b[39m\u001b[38;5;124mEnter Subject2 Marks\u001b[39m\u001b[38;5;124m\"\u001b[39m))\n\u001b[1;32m     22\u001b[0m     \u001b[38;5;28mself\u001b[39m\u001b[38;5;241m.\u001b[39ms3\u001b[38;5;241m=\u001b[39m\u001b[38;5;28mint\u001b[39m(\u001b[38;5;28minput\u001b[39m(\u001b[38;5;124m\"\u001b[39m\u001b[38;5;124mEnter Subject3 Marks\u001b[39m\u001b[38;5;124m\"\u001b[39m))\n",
      "\u001b[0;31mValueError\u001b[0m: invalid literal for int() with base 10: 'd'"
     ]
    }
   ],
   "source": [
    "#Hierarchical\n",
    "class student:\n",
    "    def setPersonal(self):\n",
    "        self.roll=input(\"Enter the roll no: \")\n",
    "        self.name=input(\"Enter the name: \")\n",
    "    def getPersonal(self):\n",
    "        print(\"Roll:\",self.roll,\"\\nName:\",self.name)\n",
    "\n",
    "class fy(student):\n",
    "    def getMarks(self):\n",
    "        self.s1=int(input(\"Enter Subject1 Marks\"))\n",
    "        self.s2=int(input(\"Enter Subject2 Marks\"))\n",
    "        self.s3=int(input(\"Enter Subject3 Marks\"))\n",
    "    def showMarks(self):\n",
    "        self.total=self.s1+self.s2+self.s3\n",
    "        print(\"Total:\",self.total)\n",
    "\n",
    "class sy(student):\n",
    "    def getMarks(self):\n",
    "        self.s1=int(input(\"Enter Subject1 Marks\"))\n",
    "        self.s2=int(input(\"Enter Subject2 Marks\"))\n",
    "        self.s3=int(input(\"Enter Subject3 Marks\"))\n",
    "        self.s4=int(input(\"Enter Subject3 Marks\"))\n",
    "    def showMarks(self):\n",
    "        self.total=self.s1+self.s2+self.s3+self.s4\n",
    "        print(\"Total:\",self.total)\n",
    "obj1=sy()\n",
    "obj2=fy()\n",
    "#object of second year calling\n",
    "obj1.setPersonal()\n",
    "obj1.getMarks()\n",
    "obj1.getPersonal()\n",
    "obj1.showMarks()\n",
    "#object of first year calling\n",
    "obj2.setPersonal()\n",
    "obj2.getMarks()\n",
    "obj2.getPersonal()\n",
    "obj2.showMarks()"
   ]
  },
  {
   "cell_type": "code",
   "execution_count": 24,
   "id": "65e348ad-62dd-4d95-9d17-a674d6991a07",
   "metadata": {},
   "outputs": [
    {
     "ename": "SyntaxError",
     "evalue": "invalid syntax. Perhaps you forgot a comma? (2678263577.py, line 6)",
     "output_type": "error",
     "traceback": [
      "\u001b[0;36m  Cell \u001b[0;32mIn[24], line 6\u001b[0;36m\u001b[0m\n\u001b[0;31m    print(\"account:\",self.save_acc\"\\namount  is:\"self.save_amo)\u001b[0m\n\u001b[0m                     ^\u001b[0m\n\u001b[0;31mSyntaxError\u001b[0m\u001b[0;31m:\u001b[0m invalid syntax. Perhaps you forgot a comma?\n"
     ]
    }
   ],
   "source": [
    "class saving:\n",
    "    def __init__(self,acc,amount):\n",
    "        self.save_acc=acc\n",
    "        self.save_amo=amount\n",
    "    def display(self):\n",
    "        print(\"account:\",self.save_acc\"\\namount  is:\"self.save_amo)\n",
    "class loan:\n",
    "    def __init__(self,acc,amount):\n",
    "        self.loan_acc=acc\n",
    "        self.loan_amo=amount\n",
    "    def display(self):\n",
    "        print(\"account:\",self.loan_acc\"\\namount  is:\"self.loan_amo)\n",
    "class user(saving,loan):\n",
    "    print(\"Enter the account of saving number and balance\")\n",
    "    saving.save\n",
    "    \n"
   ]
  },
  {
   "cell_type": "code",
   "execution_count": null,
   "id": "1bda7021-95b8-4de6-bf41-dd3ea3dbf2ec",
   "metadata": {},
   "outputs": [],
   "source": [
    "#build a class comple habing attributes real and imaganeary and perform complex number addition and subtraction operation   \n",
    "class attributes:\n",
    "    def __init__(self,a,b):\n",
    "        self.real=a\n",
    "        self.imagain=b\n",
    "    def display(self):\n",
    "        print(😎) "
   ]
  },
  {
   "cell_type": "markdown",
   "id": "1402a9b0-d51d-4fab-b2d2-45b746dbbbb6",
   "metadata": {},
   "source": [
    "(21/10/24)"
   ]
  },
  {
   "cell_type": "code",
   "execution_count": 10,
   "id": "6da3e946-1066-4188-ab4a-86a8fb7ec7bc",
   "metadata": {},
   "outputs": [],
   "source": [
    "file=open(\"./file_try.txt\",\"w\")\n",
    "file.write(\"Hi trying to learn the file \")\n",
    "file.close()"
   ]
  },
  {
   "cell_type": "code",
   "execution_count": 11,
   "id": "4cc6c35d-86a8-46d0-954f-1cdd600e10ea",
   "metadata": {},
   "outputs": [
    {
     "data": {
      "text/plain": [
       "'Hi trying to learn the file '"
      ]
     },
     "execution_count": 11,
     "metadata": {},
     "output_type": "execute_result"
    }
   ],
   "source": [
    "file=open(\"./file_try.txt\",\"r\")\n",
    "#file.write(\"Hi trying to learn the file \")\n",
    "data=file.read()\n",
    "file.close()\n",
    "data"
   ]
  },
  {
   "cell_type": "code",
   "execution_count": 12,
   "id": "1c160600-253b-47d5-9be4-bccc185dcc4c",
   "metadata": {},
   "outputs": [],
   "source": [
    "file=open(\"./file_try.txt\",\"a\")\n",
    "file.write(\"\\n Second line\")\n",
    "file.close()"
   ]
  },
  {
   "cell_type": "code",
   "execution_count": 13,
   "id": "0d8b3048-bc2d-4968-9820-962a56a06627",
   "metadata": {},
   "outputs": [
    {
     "name": "stdout",
     "output_type": "stream",
     "text": [
      "data: ['Hi trying to learn the file \\n', ' Second line']\n",
      "Hi trying to learn the file \n",
      "\n",
      " Second line\n"
     ]
    }
   ],
   "source": [
    "file=open(\"./file_try.txt\",\"r\")\n",
    "data=file.readlines()\n",
    "print(\"data:\",data)\n",
    "for l in data:\n",
    "    print(l)\n",
    "file.close()"
   ]
  },
  {
   "cell_type": "code",
   "execution_count": 14,
   "id": "95eb68ff-6e59-4c7c-96f9-bed8f88416da",
   "metadata": {},
   "outputs": [
    {
     "name": "stdout",
     "output_type": "stream",
     "text": [
      "Hi trying \n"
     ]
    }
   ],
   "source": [
    "file=open(\"./file_try.txt\",\"r\")\n",
    "data=file.read(10)\n",
    "print(data)"
   ]
  },
  {
   "cell_type": "code",
   "execution_count": 16,
   "id": "a98bf40b-bad4-490e-929e-2cd0f7a00df7",
   "metadata": {},
   "outputs": [
    {
     "name": "stdout",
     "output_type": "stream",
     "text": [
      "Hi trying to learn the file \n",
      " Second line\n"
     ]
    }
   ],
   "source": [
    "with open(\"./file_try.txt\")as file:\n",
    "    print(file.read())"
   ]
  },
  {
   "cell_type": "code",
   "execution_count": null,
   "id": "9683a21c-07c4-4aa7-b8ac-261854c9c86a",
   "metadata": {},
   "outputs": [],
   "source": [
    "f=open(\"./file_try.txt\",\"r\")\n"
   ]
  }
 ],
 "metadata": {
  "kernelspec": {
   "display_name": "Python 3 (ipykernel)",
   "language": "python",
   "name": "python3"
  },
  "language_info": {
   "codemirror_mode": {
    "name": "ipython",
    "version": 3
   },
   "file_extension": ".py",
   "mimetype": "text/x-python",
   "name": "python",
   "nbconvert_exporter": "python",
   "pygments_lexer": "ipython3",
   "version": "3.13.0"
  }
 },
 "nbformat": 4,
 "nbformat_minor": 5
}

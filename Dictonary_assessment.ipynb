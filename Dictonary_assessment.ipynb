{
 "cells": [
  {
   "cell_type": "code",
   "execution_count": 3,
   "id": "103a8080-8c82-4a2f-a369-1652d9bcb5d8",
   "metadata": {},
   "outputs": [
    {
     "name": "stdout",
     "output_type": "stream",
     "text": [
      "The dictonary in assending order by values [('value1', 'key1'), ('value2', 'key2'), ('value3', 'key3'), ('value4', 'key4')]\n",
      "The dictonary in descending order by values {'value4': 'key4', 'value3': 'key3', 'value2': 'key2', 'value1': 'key1'}\n"
     ]
    }
   ],
   "source": [
    "#Python script to sort (ascending and descending) a dictionary by value.\n",
    "d={\"value1\":\"key1\",\"value2\":\"key2\",\"value3\":\"key3\",\"value4\":\"key4\"}\n",
    "print(\"The dictonary in assending order by values\",sorted(d.items(), key=lambda item: item[1]))\n",
    "print(\"The dictonary in descending order by values\",dict(sorted(d.items(), key=lambda item: item[1], reverse=True)))"
   ]
  },
  {
   "cell_type": "code",
   "execution_count": 8,
   "id": "ca837a7a-7c36-4101-b4ce-e045bf64fb4f",
   "metadata": {},
   "outputs": [
    {
     "name": "stdout",
     "output_type": "stream",
     "text": [
      "{'value1': 'key1', 'value2': 'key2', 'value3': 'key3', 'value4': 'key4'}\n"
     ]
    }
   ],
   "source": [
    "#program to remove duplicates from the dictionary. \n",
    "d={\"value1\":\"key1\",\"value2\":\"key2\",\"value3\":\"key3\",\"value4\":\"key4\",\"value1\":\"key1\",\"value2\":\"key2\"}\n",
    "unique_dict = {}\n",
    "for k, v in d.items():\n",
    "    if v not in unique_dict.values():\n",
    "        unique_dict[k] = v\n",
    "print(unique_dict)"
   ]
  },
  {
   "cell_type": "code",
   "execution_count": 11,
   "id": "8062dd86-4a46-4c6b-b07c-24422bc89488",
   "metadata": {},
   "outputs": [
    {
     "name": "stdout",
     "output_type": "stream",
     "text": [
      "Dictionary 1: {1: 10, 2: 20, 3: 30}\n",
      "Dictionary 2: {2: 5, 3: 15, 4: 25}\n",
      "Combined Dictionary: {1: 10, 2: 25, 3: 45, 4: 25}\n"
     ]
    }
   ],
   "source": [
    "#program to combine two dictionary by adding values for common keys\n",
    "def combine_dicts(dict1, dict2):\n",
    "    combined_dict = {k: dict1.get(k, 0) + dict2.get(k, 0) for k in set(dict1) | set(dict2)}\n",
    "    return combined_dict\n",
    "\n",
    "\n",
    "dict1 = {1: 10, 2: 20, 3: 30}\n",
    "dict2 = {2: 5, 3: 15, 4: 25}\n",
    "result = combine_dicts(dict1, dict2)\n",
    "\n",
    "print(\"Dictionary 1:\", dict1)\n",
    "print(\"Dictionary 2:\", dict2)\n",
    "print(\"Combined Dictionary:\", result)\n",
    "\n",
    "    "
   ]
  },
  {
   "cell_type": "code",
   "execution_count": 13,
   "id": "dd880300-49b4-4ea2-8955-b26d4f7c62ae",
   "metadata": {},
   "outputs": [
    {
     "name": "stdin",
     "output_type": "stream",
     "text": [
      "enter string siva\n"
     ]
    },
    {
     "name": "stdout",
     "output_type": "stream",
     "text": [
      "{'s': 1, 'i': 1, 'v': 1, 'a': 1}\n"
     ]
    }
   ],
   "source": [
    "#program to create a dictionary from a string\n",
    "str=input(\"enter string\")\n",
    "d={}\n",
    "for i in str:\n",
    "    if i in d:\n",
    "        d[i]+=1\n",
    "    else:\n",
    "        d[i]=1\n",
    "print(d)\n"
   ]
  },
  {
   "cell_type": "code",
   "execution_count": 14,
   "id": "08b9ab10-cf81-4b0f-9ed2-7b737f645fe9",
   "metadata": {},
   "outputs": [
    {
     "name": "stdout",
     "output_type": "stream",
     "text": [
      "Dictionary 1: {1: 'a', 2: 'b', 3: 'c', 4: 'd'}\n",
      "Dictionary 2: {1: 'a', 2: 'x', 3: 'c', 5: 'e'}\n",
      "Matched Key-Value Pairs: {1: 'a', 3: 'c'}\n"
     ]
    }
   ],
   "source": [
    "#Here's a Python program to match key-value pairs in two dictionaries:\n",
    "def match_key_value(dict1, dict2):\n",
    "    matched_pairs = {k: v for k, v in dict1.items() if k in dict2 and dict2[k] == v}\n",
    "    return matched_pairs\n",
    "dict1 = {1: \"a\", 2: \"b\", 3: \"c\", 4: \"d\"}\n",
    "dict2 = {1: \"a\", 2: \"x\", 3: \"c\", 5: \"e\"}\n",
    "matched_pairs = match_key_value(dict1, dict2)\n",
    "print(\"Dictionary 1:\", dict1)\n",
    "print(\"Dictionary 2:\", dict2)\n",
    "print(\"Matched Key-Value Pairs:\", matched_pairs)\n"
   ]
  }
 ],
 "metadata": {
  "kernelspec": {
   "display_name": "Python 3 (ipykernel)",
   "language": "python",
   "name": "python3"
  },
  "language_info": {
   "codemirror_mode": {
    "name": "ipython",
    "version": 3
   },
   "file_extension": ".py",
   "mimetype": "text/x-python",
   "name": "python",
   "nbconvert_exporter": "python",
   "pygments_lexer": "ipython3",
   "version": "3.13.0"
  }
 },
 "nbformat": 4,
 "nbformat_minor": 5
}

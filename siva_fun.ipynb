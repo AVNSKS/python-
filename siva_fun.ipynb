{
 "cells": [
  {
   "cell_type": "code",
   "execution_count": 1,
   "id": "33dea25c-3d02-4eac-9289-d9eedd67953b",
   "metadata": {},
   "outputs": [
    {
     "name": "stdin",
     "output_type": "stream",
     "text": [
      "enter the number in between '1' to '100' 40\n"
     ]
    },
    {
     "name": "stdout",
     "output_type": "stream",
     "text": [
      "yes thr value you entered is in between '1' and '100'\n"
     ]
    }
   ],
   "source": [
    "#Python function to check whether a number falls within a given range.\n",
    "def check(inp):\n",
    "    if inp>=1 and inp<100:\n",
    "        print(\"yes thr value you entered is in between '1' and '100'\")\n",
    "    else:\n",
    "        print(\"Try next time\")\n",
    "inp=int(input(\"enter the number in between '1' to '100'\"))\n",
    "check(inp)"
   ]
  },
  {
   "cell_type": "code",
   "execution_count": 2,
   "id": "911abef2-6b24-45e5-8916-bc490afeb789",
   "metadata": {},
   "outputs": [
    {
     "name": "stdin",
     "output_type": "stream",
     "text": [
      "enter the element intp list 50\n"
     ]
    },
    {
     "name": "stdout",
     "output_type": "stream",
     "text": [
      "[1, 2, 3, 4, 5, 6, 7, 8, 9, 50]\n"
     ]
    }
   ],
   "source": [
    "#Python function that takes a list and an element as input. The function should add the element to the list only if it's not already present in the list.\n",
    "def add_element(lis,ele):\n",
    "    if ele in lis[::1]:\n",
    "        return lis\n",
    "    else:\n",
    "        lis.append(ele)\n",
    "        return lis\n",
    "i=int(input(\"enter the element intp list\"))\n",
    "print(add_element([1,2,3,4,5,6,7,8,9],i))"
   ]
  },
  {
   "cell_type": "code",
   "execution_count": 25,
   "id": "37ae0746-06ed-483e-bcee-ad0e3b402c9b",
   "metadata": {},
   "outputs": [
    {
     "name": "stdin",
     "output_type": "stream",
     "text": [
      "enter the number to tell the perect number 28\n"
     ]
    },
    {
     "name": "stdout",
     "output_type": "stream",
     "text": [
      "1 28\n",
      "6\n",
      "28\n"
     ]
    }
   ],
   "source": [
    "#A number is called perfect if the sum of proper divisors of that number is equal to the number\n",
    "def is_perfect (num):\n",
    "    sum=0\n",
    "    for i in range(1,num):\n",
    "        if num%i==0:\n",
    "            sum+=i\n",
    "    return sum==num\n",
    "def perfect_num(start,num):\n",
    "    for i in range(start,num+1):\n",
    "        if is_perfect(i):\n",
    "           print(i)\n",
    "    \n",
    "num=int(input(\"enter the number to tell the perect number\"))\n",
    "perfect_num(1,num)"
   ]
  },
  {
   "cell_type": "code",
   "execution_count": 26,
   "id": "4cb05258-e616-4e85-b8f4-adeef5848c33",
   "metadata": {},
   "outputs": [
    {
     "name": "stdin",
     "output_type": "stream",
     "text": [
      "enter the number  10\n"
     ]
    },
    {
     "name": "stdout",
     "output_type": "stream",
     "text": [
      "55\n"
     ]
    }
   ],
   "source": [
    "#fibonacci recresive function\n",
    "def fibonacci(num):\n",
    "    if num==0:\n",
    "        return 0\n",
    "        \n",
    "    elif num==1:\n",
    "        return 1\n",
    "    else:\n",
    "        return fibonacci(num-1)+fibonacci(num-2)\n",
    "        \n",
    "num=int(input(\"enter the number \"))\n",
    "print(fibonacci(num))\n"
   ]
  },
  {
   "cell_type": "code",
   "execution_count": 27,
   "id": "e8af4edf-5866-42d3-8876-05d4f159a5b5",
   "metadata": {},
   "outputs": [
    {
     "name": "stdin",
     "output_type": "stream",
     "text": [
      "Enter value of n:  44\n",
      "Enter value of r:  4\n"
     ]
    },
    {
     "name": "stdout",
     "output_type": "stream",
     "text": [
      "Permutations P(44, 4) = 2658271574788448768043625811014615890319638528000000000\n",
      "Combinations C(44, 4) = 2658271574788448768043625811014615890319638528000000000\n"
     ]
    }
   ],
   "source": [
    "import math\n",
    "def permutations(n, r):\n",
    "    return math.factorial(n) \n",
    "def combinations(n, r):\n",
    "    return permutations(n, r) \n",
    "n = int(input(\"Enter value of n: \"))\n",
    "r = int(input(\"Enter value of r: \"))\n",
    "\n",
    "# Calculate and display permutations and combinations\n",
    "print(f\"Permutations P({n}, {r}) = {permutations(n, r)}\")\n",
    "print(f\"Combinations C({n}, {r}) = {combinations(n, r)}\")"
   ]
  },
  {
   "cell_type": "code",
   "execution_count": 28,
   "id": "3a7e8e36-0443-46ec-ae79-1fa5b2cb8901",
   "metadata": {},
   "outputs": [
    {
     "name": "stdout",
     "output_type": "stream",
     "text": [
      "Shortest word: kiwi\n",
      "Longest word: strawberry\n"
     ]
    }
   ],
   "source": [
    "def find_shortest_and_longest(words):\n",
    "    if not words:\n",
    "        return None, None  \n",
    "\n",
    "    shortest_word = min(words, key=len)\n",
    "    longest_word = max(words, key=len)\n",
    "\n",
    "    return shortest_word, longest_word\n",
    "word_list = [\"apple\", \"banana\", \"kiwi\", \"strawberry\", \"orange\"]\n",
    "shortest, longest = find_shortest_and_longest(word_list)\n",
    "print(f\"Shortest word: {shortest}\")\n",
    "print(f\"Longest word: {longest}\")"
   ]
  },
  {
   "cell_type": "code",
   "execution_count": null,
   "id": "b1ee6133-6ba7-4d0a-8073-059a41c0ec76",
   "metadata": {},
   "outputs": [],
   "source": []
  }
 ],
 "metadata": {
  "kernelspec": {
   "display_name": "Python 3 (ipykernel)",
   "language": "python",
   "name": "python3"
  },
  "language_info": {
   "codemirror_mode": {
    "name": "ipython",
    "version": 3
   },
   "file_extension": ".py",
   "mimetype": "text/x-python",
   "name": "python",
   "nbconvert_exporter": "python",
   "pygments_lexer": "ipython3",
   "version": "3.13.0"
  }
 },
 "nbformat": 4,
 "nbformat_minor": 5
}

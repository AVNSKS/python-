{
 "cells": [
  {
   "cell_type": "code",
   "execution_count": 2,
   "id": "0784cf48-dd27-4cda-98d3-bb8bcea3c112",
   "metadata": {},
   "outputs": [
    {
     "name": "stdout",
     "output_type": "stream",
     "text": [
      "siva will have the sucess fast\n"
     ]
    }
   ],
   "source": [
    "## first \n",
    "print(\"siva will have the sucess fast\")"
   ]
  },
  {
   "cell_type": "code",
   "execution_count": 1,
   "id": "c8520ced-7f03-4258-8f83-76d690d73058",
   "metadata": {},
   "outputs": [
    {
     "name": "stdout",
     "output_type": "stream",
     "text": [
      "1\n",
      "2\n",
      "Fizz\n",
      "4\n",
      "Buzz\n",
      "Fizz\n",
      "7\n",
      "8\n",
      "Fizz\n",
      "Buzz\n",
      "11\n",
      "Fizz\n",
      "13\n",
      "14\n"
     ]
    }
   ],
   "source": [
    "for i in range(1,15):\n",
    "        if i%3==0 and i%5==0:\n",
    "            print(\"FizzBuzz\")\n",
    "        elif i%3==0:\n",
    "            print(\"Fizz\")\n",
    "        elif i%5==0:\n",
    "            print(\"Buzz\")\n",
    "        else: \n",
    "            print(i)"
   ]
  },
  {
   "cell_type": "code",
   "execution_count": 3,
   "id": "9d7e8969",
   "metadata": {},
   "outputs": [
    {
     "name": "stdin",
     "output_type": "stream",
     "text": [
      " 5\n"
     ]
    },
    {
     "name": "stdout",
     "output_type": "stream",
     "text": [
      "Weird\n"
     ]
    }
   ],
   "source": [
    "n = int(input().strip())\n",
    "\n",
    "if n%2!=0:\n",
    "    print(\"Weird\")\n",
    "if n%2==0:\n",
    "    if n>=2 and n<5:\n",
    "        print(\"Not weird\")\n",
    "    if n>=6 and n<=20:\n",
    "        print(\"Weird\")\n",
    "    if n> 20:\n",
    "        print(\"Not Weird\")"
   ]
  },
  {
   "cell_type": "code",
   "execution_count": 7,
   "id": "d4f00609-8eff-4f9f-9dc1-dd9ac0808504",
   "metadata": {},
   "outputs": [
    {
     "name": "stdout",
     "output_type": "stream",
     "text": [
      "0\n",
      "1\n",
      "4\n",
      "9\n",
      "16\n",
      "25\n"
     ]
    }
   ],
   "source": [
    "n=5\n",
    "for i in range(0,n+1):\n",
    "    print(i**2)"
   ]
  },
  {
   "cell_type": "code",
   "execution_count": 1,
   "id": "bfcca5f8-2b11-4a4d-b959-6876a19ba374",
   "metadata": {},
   "outputs": [
    {
     "name": "stdout",
     "output_type": "stream",
     "text": [
      "False\n"
     ]
    }
   ],
   "source": [
    "year=1992\n",
    "print( year%400==0)\n",
    "        "
   ]
  },
  {
   "cell_type": "code",
   "execution_count": 12,
   "id": "539e0450-d8c9-434a-8e54-9081a20f6ca1",
   "metadata": {},
   "outputs": [
    {
     "name": "stdin",
     "output_type": "stream",
     "text": [
      " 77\n"
     ]
    },
    {
     "name": "stdout",
     "output_type": "stream",
     "text": [
      "7\n"
     ]
    }
   ],
   "source": [
    "s=input()\n",
    "for i in range(0,len(s)):\n",
    "    if s[i].isalpha() or s[i].isdigit():\n",
    "        if s[i].isalpha() or s[i].isdigit() and s[i+1].isalpha() or s[i+1].isdigit():\n",
    "            print(s[i])\n",
    "            break\n",
    "    "
   ]
  },
  {
   "cell_type": "code",
   "execution_count": 4,
   "id": "a919def1-3889-44c3-89b0-f98cf9151ecb",
   "metadata": {},
   "outputs": [
    {
     "name": "stdin",
     "output_type": "stream",
     "text": [
      " 4\n",
      " 3\n",
      " 2\n",
      " 4\n"
     ]
    },
    {
     "name": "stdout",
     "output_type": "stream",
     "text": [
      "[[0, 0, 0], [0, 0, 1], [0, 1, 0], [0, 1, 1], [0, 2, 0], [0, 2, 1], [1, 0, 0], [1, 0, 1], [1, 1, 0], [1, 1, 1], [1, 2, 0], [2, 0, 0], [2, 0, 1], [2, 1, 0], [2, 2, 1], [3, 0, 0], [3, 1, 1], [3, 2, 0], [3, 2, 1]]\n"
     ]
    }
   ],
   "source": [
    "##### if __name__ == '__main__':\n",
    "x = int(input())\n",
    "y = int(input())\n",
    "z = int(input())\n",
    "n = int(input())\n",
    "xl=[i for i in range (x)]\n",
    "yl=[i for i in range (y)]\n",
    "zl=[i for i in range (z)]\n",
    "de=[]\n",
    "pr=[]\n",
    "for i in xl:\n",
    "    for j in yl:\n",
    "        for k in zl:\n",
    "            de.append([i,j,k])\n",
    "for i in de:\n",
    "    if sum(i) ==n:\n",
    "        continue\n",
    "    else:\n",
    "        pr.append(i)\n",
    "print(pr)\n",
    "#print(de)"
   ]
  },
  {
   "cell_type": "code",
   "execution_count": 11,
   "id": "d3206aec-bf00-497f-bad2-2205793ad567",
   "metadata": {},
   "outputs": [
    {
     "name": "stdin",
     "output_type": "stream",
     "text": [
      " 4\n",
      " 2 3 4 4\n"
     ]
    },
    {
     "name": "stdout",
     "output_type": "stream",
     "text": [
      "<map object at 0x1108c1e10>\n"
     ]
    },
    {
     "ename": "ValueError",
     "evalue": "max() iterable argument is empty",
     "output_type": "error",
     "traceback": [
      "\u001b[0;31m---------------------------------------------------------------------------\u001b[0m",
      "\u001b[0;31mValueError\u001b[0m                                Traceback (most recent call last)",
      "Cell \u001b[0;32mIn[11], line 6\u001b[0m\n\u001b[1;32m      4\u001b[0m arr1\u001b[38;5;241m=\u001b[39m\u001b[38;5;28mmap\u001b[39m(\u001b[38;5;28;01mlambda\u001b[39;00m x: x\u001b[38;5;241m==\u001b[39mma , arr)\n\u001b[1;32m      5\u001b[0m \u001b[38;5;28mprint\u001b[39m(arr1)\n\u001b[0;32m----> 6\u001b[0m \u001b[38;5;28mprint\u001b[39m(\u001b[38;5;28;43mmax\u001b[39;49m\u001b[43m(\u001b[49m\u001b[43marr1\u001b[49m\u001b[43m)\u001b[49m)\n\u001b[1;32m      7\u001b[0m \u001b[38;5;28mprint\u001b[39m(ma)\n",
      "\u001b[0;31mValueError\u001b[0m: max() iterable argument is empty"
     ]
    }
   ],
   "source": [
    "n = int(input())\n",
    "arr = map(int, input().split())\n",
    "ma=max(arr)\n",
    "arr1=map(lambda x: x==ma , arr)\n",
    "print(arr1)\n",
    "print(max(arr1))\n",
    "print(ma)"
   ]
  },
  {
   "cell_type": "code",
   "execution_count": 17,
   "id": "a6a222a3-b8a1-4f3f-8afd-eb9563b1cada",
   "metadata": {},
   "outputs": [
    {
     "name": "stdout",
     "output_type": "stream",
     "text": [
      "5\n"
     ]
    }
   ],
   "source": [
    "arr=[2,3,4,5,6,6,4,6]\n",
    "ma=max(arr)\n",
    "for i in range(len(arr)):\n",
    "    if ma in arr:\n",
    "        arr.remove(ma)\n",
    "print(max(arr))\n"
   ]
  },
  {
   "cell_type": "code",
   "execution_count": 25,
   "id": "a0bd8a65-33f1-42ea-b4f0-88845182c033",
   "metadata": {},
   "outputs": [
    {
     "name": "stdin",
     "output_type": "stream",
     "text": [
      " 2\n",
      " f\n",
      " 2\n",
      " f\n",
      " 4\n"
     ]
    },
    {
     "name": "stdout",
     "output_type": "stream",
     "text": [
      "<class 'str'> <class 'float'>\n",
      "[['f', 2.0], ['f', 4.0]]\n"
     ]
    }
   ],
   "source": [
    "pr=[]\n",
    "for _ in range(int(input())):\n",
    "    name = input()\n",
    "    score = float(input())\n",
    "    pr.extend([[name,score]])\n",
    "print(type(name),type(score))\n",
    "print(pr)\n"
   ]
  },
  {
   "cell_type": "code",
   "execution_count": 47,
   "id": "1c4caeb0-4e80-40e5-87f3-d49360302360",
   "metadata": {},
   "outputs": [
    {
     "name": "stdin",
     "output_type": "stream",
     "text": [
      " 2\n",
      " ff 4 5 3 \n",
      " gg 7 86 9\n",
      " gg\n"
     ]
    },
    {
     "name": "stdout",
     "output_type": "stream",
     "text": [
      "34\n"
     ]
    },
    {
     "data": {
      "text/plain": [
       "3"
      ]
     },
     "execution_count": 47,
     "metadata": {},
     "output_type": "execute_result"
    }
   ],
   "source": [
    "n = int(input())\n",
    "student_marks = {}    \n",
    "for _ in range(n):\n",
    "    name, *line = input().split()\n",
    "    scores = list(map(float, line))\n",
    "    student_marks[name] = scores\n",
    "query_name = input()\n",
    "# my_score=[scores for names in student_marks if names ==query_name ]\n",
    "# score=0.0\n",
    "# for i in my_score:\n",
    "#     score+=i\n",
    "# print(score)\n",
    "my_score = student_marks.get(query_name, [])  # Get scores for the queried name or an empty list if not found\n",
    "score = sum(my_score)  # Sum the list of scores directly\n",
    "print(int((score/len(my_score))))\n",
    "len(my_score)"
   ]
  },
  {
   "cell_type": "code",
   "execution_count": null,
   "id": "1bacb6db-c02f-4108-9cfa-0d7900f67077",
   "metadata": {},
   "outputs": [],
   "source": [
    "n = int(input())  # Read the integer (number of elements)\n",
    "elements = map(int, input().split())  # Read space-separated integers and convert to int\n",
    "\n",
    "# Create a tuple from the elements\n",
    "t = tuple(elements)\n",
    "\n",
    "# Compute the hash of the tuple\n",
    "result = hash(t)\n",
    "\n",
    "# Print the result\n",
    "print(result)"
   ]
  }
 ],
 "metadata": {
  "kernelspec": {
   "display_name": "Python 3 (ipykernel)",
   "language": "python",
   "name": "python3"
  },
  "language_info": {
   "codemirror_mode": {
    "name": "ipython",
    "version": 3
   },
   "file_extension": ".py",
   "mimetype": "text/x-python",
   "name": "python",
   "nbconvert_exporter": "python",
   "pygments_lexer": "ipython3",
   "version": "3.13.0"
  }
 },
 "nbformat": 4,
 "nbformat_minor": 5
}

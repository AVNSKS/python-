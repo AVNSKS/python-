{
 "cells": [
  {
   "cell_type": "code",
   "execution_count": 6,
   "id": "8f878dee-45e9-47ad-b171-f8996585f999",
   "metadata": {},
   "outputs": [
    {
     "name": "stdout",
     "output_type": "stream",
     "text": [
      "6 9 12 15 "
     ]
    }
   ],
   "source": [
    "#element wise sum of the different tuple\n",
    "in1=(1,2,3,4)\n",
    "in2=(2,3,4,5)\n",
    "in3=(3,4,5,6)\n",
    "for i in range(len(in1)):\n",
    "    s=in1[i]+in2[i]\n",
    "    print(s+in3[i],end=\" \")\n",
    "\n",
    "          "
   ]
  },
  {
   "cell_type": "code",
   "execution_count": 10,
   "id": "8fea2fe5-5aa8-4430-a42c-5d6b878b14fe",
   "metadata": {},
   "outputs": [
    {
     "data": {
      "text/plain": [
       "[[1, 2], [2, 3], [3, 4]]"
      ]
     },
     "execution_count": 10,
     "metadata": {},
     "output_type": "execute_result"
    }
   ],
   "source": [
    "# program to convert a given list of tuples to a list of lists. \n",
    "x=[(1, 2), (2, 3), (3, 4)]\n",
    "x=[list(i) for i in x]\n",
    "x"
   ]
  },
  {
   "cell_type": "code",
   "execution_count": 19,
   "id": "e78ab004-45b5-4561-b7de-a39bc71fd475",
   "metadata": {},
   "outputs": [
    {
     "data": {
      "text/plain": [
       "[(1, 2), (2, 3), (3, 4)]"
      ]
     },
     "execution_count": 19,
     "metadata": {},
     "output_type": "execute_result"
    }
   ],
   "source": [
    "#program to remove an empty tuple(s) from a list of tuples.\n",
    "x=[(1, 2), (2, 3), (3, 4),(),()]\n",
    "x=[i for i in x if i]\n",
    "print(x)\n"
   ]
  },
  {
   "cell_type": "code",
   "execution_count": 21,
   "id": "5836cae9-bdfe-4ca8-972f-aea9831166e9",
   "metadata": {},
   "outputs": [
    {
     "name": "stdin",
     "output_type": "stream",
     "text": [
      "enter the string to conver it to tuple 33 4\n"
     ]
    },
    {
     "data": {
      "text/plain": [
       "('3', '3', ' ', '4')"
      ]
     },
     "execution_count": 21,
     "metadata": {},
     "output_type": "execute_result"
    }
   ],
   "source": [
    "#program to convert a given string to a tuple\n",
    "inpu=input(\"enter the string to conver it to tuple\")\n",
    "tupl=tuple(inpu)\n",
    "print(tupl)"
   ]
  },
  {
   "cell_type": "code",
   "execution_count": 31,
   "id": "8c8d6e3e-a900-4a9c-b227-160b3fabd5be",
   "metadata": {},
   "outputs": [
    {
     "name": "stdin",
     "output_type": "stream",
     "text": [
      "enter the numbers to numtiplay th numbers 1 2 3\n"
     ]
    },
    {
     "name": "stdout",
     "output_type": "stream",
     "text": [
      "6\n"
     ]
    }
   ],
   "source": [
    "import math\n",
    "#program to calculate the product, multiplying all the numbers in a given tuple.\n",
    "inpu=(input(\"enter the numbers to numtiplay th numbers\")).split(\" \")\n",
    "inpu=[int (i) for i in inpu ]\n",
    "inpu=tuple(inpu)\n",
    "print(math.prod(inpu))\n"
   ]
  }
 ],
 "metadata": {
  "kernelspec": {
   "display_name": "Python 3 (ipykernel)",
   "language": "python",
   "name": "python3"
  },
  "language_info": {
   "codemirror_mode": {
    "name": "ipython",
    "version": 3
   },
   "file_extension": ".py",
   "mimetype": "text/x-python",
   "name": "python",
   "nbconvert_exporter": "python",
   "pygments_lexer": "ipython3",
   "version": "3.13.0"
  }
 },
 "nbformat": 4,
 "nbformat_minor": 5
}
